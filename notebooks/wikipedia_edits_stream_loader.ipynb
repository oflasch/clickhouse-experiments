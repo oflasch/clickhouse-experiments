{
 "cells": [
  {
   "cell_type": "markdown",
   "metadata": {},
   "source": [
    "# Wikipedia Edits ClickHouse Streaming ETL Pipeline"
   ]
  },
  {
   "cell_type": "code",
   "execution_count": null,
   "metadata": {},
   "outputs": [],
   "source": [
    "import sseclient\n",
    "import clickhouse_driver\n",
    "import requests\n",
    "import json\n",
    "import ipaddress\n",
    "from datetime import datetime\n",
    "from IPython.display import display, clear_output\n",
    "from clickhouse_driver import Client\n",
    "import typing"
   ]
  },
  {
   "cell_type": "code",
   "execution_count": null,
   "metadata": {},
   "outputs": [],
   "source": [
    "def get_geolocation(ip_address: str) -> dict:\n",
    "    url = f\"https://api.ipgeolocationapi.com/geolocate/{ip_address}\"\n",
    "    try:\n",
    "        response_raw = requests.request(\"GET\", url)\n",
    "        response_json = json.loads(response_raw.text)\n",
    "        result_record = {\n",
    "            \"continent\": response_json[\"continent\"],\n",
    "            \"region\":    response_json[\"region\"],\n",
    "            \"subregion\": response_json[\"subregion\"],\n",
    "            \"country\":   response_json[\"alpha2\"].lower(),\n",
    "            \"lat\":       float(response_json[\"geo\"][\"latitude_dec\"]),\n",
    "            \"lon\":       float(response_json[\"geo\"][\"longitude_dec\"])\n",
    "        }\n",
    "        return result_record\n",
    "    except:\n",
    "        return {}\n",
    "\n",
    "def geolocation_enricher_generator(generator: typing.Iterable[dict]) -> typing.Iterable[dict]:\n",
    "    for change_record in generator:\n",
    "        try: # check if \"user\" is an IP address...\n",
    "            ipaddress.ip_address(change_record[\"user\"])\n",
    "        except:\n",
    "            # no IP address, but a named user...\n",
    "            change_record[\"anonymous\"] = False\n",
    "            pass\n",
    "        else:\n",
    "            # IP address, anonymous user, find geolocation...\n",
    "            change_record[\"anonymous\"] = True\n",
    "            change_record.update(get_geolocation(change_record[\"user\"]))\n",
    "        yield change_record"
   ]
  },
  {
   "cell_type": "code",
   "execution_count": null,
   "metadata": {},
   "outputs": [],
   "source": [
    "def wikipedia_change_message_generator() -> typing.Iterable[dict]:\n",
    "    sse_source_url = \"https://stream.wikimedia.org/v2/stream/recentchange\"\n",
    "    recent_changes_stream = sseclient.SSEClient(sse_source_url)\n",
    "    for raw_msg in recent_changes_stream:\n",
    "        if len(raw_msg.data) == 0: continue # remove empty responses\n",
    "        json_msg = json.loads(raw_msg.data)\n",
    "        if json_msg[\"bot\"]: continue # remove bot-generated edits\n",
    "        if json_msg[\"type\"] not in [\"new\", \"edit\"]: continue # only keep page edit and new page events\n",
    "        result_record = { # create result record and fill it with fields from json_msg...\n",
    "            \"id\":            json_msg[\"id\"],\n",
    "            \"type\":          json_msg[\"type\"],\n",
    "            \"timestamp\":     datetime.utcfromtimestamp(int(json_msg[\"timestamp\"])),\n",
    "            \"user\":          json_msg[\"user\"],\n",
    "            \"title\":         json_msg[\"title\"],\n",
    "            \"comment\":       json_msg[\"comment\"],\n",
    "            \"minor\":         json_msg[\"minor\"],\n",
    "            \"length_old\":    0 if json_msg[\"type\"] == \"new\" else json_msg[\"length\"][\"old\"],\n",
    "            \"length_new\":    json_msg[\"length\"][\"new\"],\n",
    "            \"revision_old\":  0 if json_msg[\"type\"] == \"new\" else json_msg[\"revision\"][\"old\"],\n",
    "            \"revision_new\":  json_msg[\"revision\"][\"new\"],\n",
    "            \"server_name\":   json_msg[\"server_name\"],\n",
    "            \"wiki\":          json_msg[\"wiki\"],\n",
    "            \"parsedcomment\": json_msg[\"parsedcomment\"],      \n",
    "            \"anonymous\":     None,\n",
    "            \"continent\":     None,\n",
    "            \"region\":        None,\n",
    "            \"subregion\":     None,\n",
    "            \"country\":       None,\n",
    "            \"lat\":           None,\n",
    "            \"lon\":           None\n",
    "        }\n",
    "        yield result_record"
   ]
  },
  {
   "cell_type": "code",
   "execution_count": null,
   "metadata": {},
   "outputs": [],
   "source": [
    "for change_record in geolocation_enricher_generator(wikipedia_change_message_generator()):\n",
    "    clear_output(wait=True)\n",
    "    display(change_record)"
   ]
  },
  {
   "cell_type": "code",
   "execution_count": null,
   "metadata": {},
   "outputs": [],
   "source": [
    "def batch_generator(iterable: typing.Iterable, n: int = 1) -> typing.Iterable:\n",
    "    current_batch = []\n",
    "    for item in iterable:\n",
    "        current_batch.append(item)\n",
    "        if len(current_batch) == n:\n",
    "            yield current_batch\n",
    "            current_batch = []\n",
    "    yield current_batch # last, incomplete batch"
   ]
  },
  {
   "cell_type": "code",
   "execution_count": null,
   "metadata": {},
   "outputs": [],
   "source": [
    "for change_record in batch_generator(geolocation_enricher_generator(wikipedia_change_message_generator()), n=8):\n",
    "    clear_output(wait=True)\n",
    "    display(change_record)"
   ]
  },
  {
   "cell_type": "code",
   "execution_count": null,
   "metadata": {},
   "outputs": [],
   "source": [
    "ch = Client(\"localhost\", password=\"RussiaDoesNotLikeSlow\")"
   ]
  },
  {
   "cell_type": "code",
   "execution_count": null,
   "metadata": {},
   "outputs": [],
   "source": [
    "ch.execute(\"CREATE DATABASE IF NOT EXISTS clickhouse_experiments\")\n",
    "\n",
    "#ch.execute(\"DROP TABLE IF EXISTS clickhouse_experiments.wikipedia_changes\")\n",
    "\n",
    "ch.execute(\"\"\"\n",
    "CREATE TABLE IF NOT EXISTS clickhouse_experiments.wikipedia_changes\n",
    "(\n",
    "    id             UInt64,\n",
    "    type           LowCardinality(String),\n",
    "    timestamp      DateTime('UTC'),\n",
    "    user           String,\n",
    "    title          String,\n",
    "    comment        String,\n",
    "    minor          UInt8,\n",
    "    length_old     Nullable(UInt64),\n",
    "    length_new     UInt64,\n",
    "    revision_old   Nullable(UInt64),\n",
    "    revision_new   UInt64,\n",
    "    server_name    LowCardinality(String),\n",
    "    wiki           LowCardinality(String),\n",
    "    parsedcomment  String,\n",
    "    anonymous      UInt8,\n",
    "    continent      Nullable(String),\n",
    "    region         Nullable(String),\n",
    "    subregion      Nullable(String),\n",
    "    country        Nullable(String),\n",
    "    lat            Nullable(Float64),\n",
    "    lon            Nullable(Float64),\n",
    "    h3index        Nullable(UInt64) MATERIALIZED isNull(lat) ? NULL : geoToH3(lon, lat, 12)\n",
    ")\n",
    "ENGINE = MergeTree()\n",
    "PARTITION BY toYYYYMM(timestamp)\n",
    "ORDER BY (timestamp, wiki, id)\n",
    "SAMPLE BY id\n",
    "TTL timestamp + INTERVAL 3 YEAR\n",
    "SETTINGS index_granularity=8192\n",
    "\"\"\")"
   ]
  },
  {
   "cell_type": "code",
   "execution_count": null,
   "metadata": {},
   "outputs": [],
   "source": [
    "ch.execute(\"USE clickhouse_experiments\")\n",
    "\n",
    "ch.execute(\"SHOW TABLES\")"
   ]
  },
  {
   "cell_type": "code",
   "execution_count": null,
   "metadata": {},
   "outputs": [],
   "source": [
    "for row_batch in batch_generator(geolocation_enricher_generator(wikipedia_change_message_generator()), n=32):\n",
    "    ch.execute(\"INSERT INTO clickhouse_experiments.wikipedia_changes VALUES\", row_batch)\n",
    "    clear_output(wait=True)\n",
    "    display(f\"inserted a row_batch of len {len(row_batch)} with id {row_batch[0]['id']}\")"
   ]
  },
  {
   "cell_type": "code",
   "execution_count": null,
   "metadata": {},
   "outputs": [],
   "source": [
    "ch.execute('SELECT count() FROM clickhouse_experiments.wikipedia_changes')"
   ]
  },
  {
   "cell_type": "code",
   "execution_count": null,
   "metadata": {},
   "outputs": [],
   "source": [
    "ch.disconnect()"
   ]
  },
  {
   "cell_type": "code",
   "execution_count": null,
   "metadata": {},
   "outputs": [],
   "source": []
  }
 ],
 "metadata": {
  "kernelspec": {
   "display_name": "Python 3 for data science",
   "language": "python",
   "name": "python3_for_data_science"
  },
  "language_info": {
   "codemirror_mode": {
    "name": "ipython",
    "version": 3
   },
   "file_extension": ".py",
   "mimetype": "text/x-python",
   "name": "python",
   "nbconvert_exporter": "python",
   "pygments_lexer": "ipython3",
   "version": "3.7.7"
  }
 },
 "nbformat": 4,
 "nbformat_minor": 4
}
